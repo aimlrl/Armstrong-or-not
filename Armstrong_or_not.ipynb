{
 "cells": [
  {
   "cell_type": "markdown",
   "metadata": {},
   "source": [
    "# Write a program to determine whether the number is Armstrong number or not. \n",
    "\n",
    "# A Number is an armstrong number when the sum of cube of all the digits of the number is equal to the same number. \n",
    "\n",
    "# For Example, the number 153 is an armstrong number. Let's see how: \n",
    "\n",
    "# \\begin{equation}\n",
    "(1)^3 + (5)^3 + (3)^3 \\\\\n",
    "1 + 125 + 27 \\\\\n",
    "153\n",
    "\\end{equation}"
   ]
  },
  {
   "cell_type": "code",
   "execution_count": null,
   "metadata": {},
   "outputs": [],
   "source": []
  }
 ],
 "metadata": {
  "kernelspec": {
   "display_name": "Python 3",
   "language": "python",
   "name": "python3"
  },
  "language_info": {
   "codemirror_mode": {
    "name": "ipython",
    "version": 3
   },
   "file_extension": ".py",
   "mimetype": "text/x-python",
   "name": "python",
   "nbconvert_exporter": "python",
   "pygments_lexer": "ipython3",
   "version": "3.8.5"
  }
 },
 "nbformat": 4,
 "nbformat_minor": 4
}
